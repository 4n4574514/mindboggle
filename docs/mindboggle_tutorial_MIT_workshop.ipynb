{
 "cells": [
  {
   "cell_type": "markdown",
   "metadata": {
    "deletable": true,
    "editable": true
   },
   "source": [
    "## Update the Docker file\n",
    "\n",
    "Create a new file called Docker.mindboggle.new\n",
    "\n",
    "```\n",
    "FROM nipype/workshops:latest-complete\n",
    "WORKDIR /home/jovyan/work\n",
    "RUN conda install -y flask\n",
    "RUN git clone https://github.com/nipy/mindboggle && cd mindboggle && python setup.py install\n",
    "RUN git clone https://github.com/akeshavan/roygbiv && cd roygbiv && python setup.py install\n",
    "RUN git clone https://github.com/akeshavan/nbpapaya && cd nbpapaya && git submodule update --init --recursive && python setup.py install\n",
    "RUN mkdir data && cd data && curl -sSL https://osf.io/svxht/?action=download  | tar xzf - -C /data --strip-components=2\n",
    "\n",
    "```\n",
    "\n",
    "### Build the docker:\n",
    "\n",
    "```\n",
    "docker build -t nipypeshop_plus -f Docker.mindboggle.new .\n",
    "```\n",
    "\n",
    "### Start the docker:\n",
    "\n",
    "```\n",
    "cd /path/to/workshop/\n",
    "docker run -ti -v $PWD:/home/jovyan/work -p 9876:8888 -p 5000:5000 nipypeshop_plus bash\n",
    "```\n",
    "\n",
    "## Datalad\n",
    "\n",
    "If you don't have the raw data downloaded, and want to run mindboggle, do the following:\n",
    "\n",
    "```\n",
    "cd /home/jovyan/work/data/ds000114\n",
    "git remote add datasets http://datasets.datalad.org/workshops/nipype-2017/ds000114/.git\n",
    "datalad get . \n",
    "```\n",
    "\n",
    "## Try running the roygbiv webapp\n",
    "\n",
    "```\n",
    "cd ~/work\n",
    "roygbiv $PWD/data/mindboggled/sub-02\n",
    "\n",
    "```\n",
    "\n",
    "on your **chrome** browser, navigate to `localhost:5000`\n",
    "\n",
    "## View this notebook in a browser\n",
    "\n",
    "### Clone mindboggle directory\n",
    "\n",
    "```\n",
    "cd ~/work\n",
    "git clone https://github.com/nipy/mindboggle\n",
    "```\n",
    "\n",
    "### Change directory to mindboggle/docs and start the notebook:\n",
    "\n",
    "```\n",
    "cd mindboggle/docs\n",
    "jupyter notebook\n",
    "```\n"
   ]
  },
  {
   "cell_type": "markdown",
   "metadata": {
    "deletable": true,
    "editable": true
   },
   "source": [
    "<br><br><br>"
   ]
  },
  {
   "cell_type": "markdown",
   "metadata": {
    "deletable": true,
    "editable": true
   },
   "source": [
    "<img align=\"left\" style=\"padding-right:10px; width:150px;\" src=\"https://mfr.osf.io/export?url=https://osf.io/q7ym9/?action=download%26direct%26mode=render&initialWidth=673&childId=mfrIframe&format=1200x1200.jpeg\">\n",
    "<font size=\"1\">\n",
    "This [Mindboggle](http://mindboggle.info) tutorial is a jupyter notebook that runs in a docker container:\n",
    "<br>\n",
    "*\n",
    "&nbsp;&nbsp;``$ docker run -it --rm -p 8888:8888 -v /Users/arno/Data/workshops:/home/jovyan/work nipype/workshops:latest-complete bash``<br>\n",
    "&nbsp;&nbsp;``$ git clone https://github.com/nipy/mindboggle.git; cd mindboggle; python setup.py install; cd ..;``<br>\n",
    "&nbsp;&nbsp;``$ jupyter notebook``<br>\n",
    "&nbsp;&nbsp;-- <a href=\"http://binarybottle.com\">Arno Klein</a> and Anisha Keshavan (please refer to the [Mindboggle reference](http://journals.plos.org/ploscompbiol/article?id=10.1371/journal.pcbi.1005350#sec007))*\n",
    "</font>"
   ]
  },
  {
   "cell_type": "markdown",
   "metadata": {
    "deletable": true,
    "editable": true
   },
   "source": [
    "# Mindboggle tutorial\n",
    "\n",
    "1. [Introduction](#introduction)\n",
    "2. [Mindboggle processing steps](#processing)\n",
    "3. [Run \"mindboggle --help\" on the command line](#help)\n",
    "4. [Mindboggle on the command line](#command)\n",
    "5. [Mindboggle Python library](#library)\n",
    "6. Run individual functions:\n",
    "   - [Example 1: Compute histogram values from a nibabel-readable image](#example1)\n",
    "   - [Example 2: Compute statistical measures across vertices per label](#example2)\n",
    "   - [Example 3: Decimate a left postcentral pial surface](#example3)\n",
    "   - [Example 4: Relabel a VTK surface](#example4)\n",
    "   - [Example 5: Segment deep vertices of surface into contiguous regions](#example5)\n",
    "   - [Example 6: Extract sulcus label borders](#example6)"
   ]
  },
  {
   "cell_type": "markdown",
   "metadata": {
    "deletable": true,
    "editable": true
   },
   "source": [
    "<a id=\"introduction\"></a>\n",
    "\n",
    "# Introduction\n",
    "<br>\n",
    "<br>\n",
    "<br>\n",
    "<br>"
   ]
  },
  {
   "cell_type": "markdown",
   "metadata": {
    "deletable": true,
    "editable": true
   },
   "source": [
    "<a id=\"processing\"></a>\n",
    "\n",
    "# Mindboggle processing steps\n",
    "\n",
    "<img style=\"padding-right:10px;\" src=\"https://mfr.osf.io/export?url=https://osf.io/dcuh8/?action=download%26direct%26mode=render&initialWidth=673&childId=mfrIframe&format=1200x1200.jpeg\">\n",
    "\n",
    "## Output\n",
    "Mindboggle takes in (FreeSurfer- and optionally ANTs-) preprocessed T1-weighted MRI data, and outputs nifti volumes, vtk surfaces, and csv tables containing label, feature, and shape information for further analysis:\n",
    "\n",
    "- **labels/**:  *integer-labeled vtk surfaces and nifti volumes*\n",
    "- **features/**:  *integer-labeled sulci or fundi on vtk surfaces*\n",
    "- **shapes/**:  *float shape value for every point on vtk surfaces*\n",
    "- **tables/**:  *csv tables of shape values for every label/feature/vertex*"
   ]
  },
  {
   "cell_type": "markdown",
   "metadata": {
    "deletable": true,
    "editable": true
   },
   "source": [
    "<br>\n",
    "## Processing steps\n",
    "\n",
    "### 1. Combine FreeSurfer and ANTs gray/white segmentations:\n",
    "<br>\n",
    "<img style=\"padding-right:10px; width:600px;\" src=\"https://mfr.osf.io/export?url=https://osf.io/k5kr8/?action=download%26direct%26mode=render&initialWidth=673&childId=mfrIframe&format=1200x1200.jpeg\">\n",
    "<br>"
   ]
  },
  {
   "cell_type": "markdown",
   "metadata": {
    "deletable": true,
    "editable": true
   },
   "source": [
    "<br>\n",
    "### 2. Fill hybrid segmentation with (FreeSurfer- or ANTs-registered) labels.\n",
    "### 3. Compute volume shape measures for each labeled region:\n",
    "&nbsp;&nbsp;&nbsp;&nbsp;&nbsp;&nbsp;&nbsp;&nbsp;\n",
    "<b>volume and \"thickinthehead\" (cortical thickness)</b>\n",
    "<br>\n",
    "<img style=\"padding-right:10px; width:600px;\" src=\"https://mfr.osf.io/export?url=https://osf.io/n5hvx/?action=download%26direct%26mode=render&initialWidth=673&childId=mfrIframe&format=1200x1200.jpeg\">\n",
    "<br>"
   ]
  },
  {
   "cell_type": "markdown",
   "metadata": {
    "deletable": true,
    "editable": true
   },
   "source": [
    "<br>\n",
    "### 4. Compute surface shape measures for every cortical mesh vertex (+ FreeSurfer measures)\n",
    "&nbsp;&nbsp;&nbsp;&nbsp;&nbsp;&nbsp;&nbsp;&nbsp;\n",
    "<b>surface area</b>\n",
    "<br>\n",
    "<img style=\"padding-right:10px; width:600px;\" src=\"https://mfr.osf.io/export?url=https://osf.io/6varh/?action=download%26direct%26mode=render&initialWidth=673&childId=mfrIframe&format=1200x1200.jpeg\">\n",
    "<br>"
   ]
  },
  {
   "cell_type": "markdown",
   "metadata": {
    "deletable": true,
    "editable": true
   },
   "source": [
    "<br>\n",
    "&nbsp;&nbsp;&nbsp;&nbsp;&nbsp;&nbsp;&nbsp;&nbsp;\n",
    "<b>geodesic depth and travel depth</b>\n",
    "<br>\n",
    "<img style=\"padding-right:10px; width:600px;\" src=\"https://mfr.osf.io/export?url=https://osf.io/uv9u6/?action=download%26direct%26mode=render&initialWidth=673&childId=mfrIframe&format=1200x1200.jpeg\">\n",
    "<br>"
   ]
  },
  {
   "cell_type": "markdown",
   "metadata": {
    "deletable": true,
    "editable": true
   },
   "source": [
    "<br>\n",
    "&nbsp;&nbsp;&nbsp;&nbsp;&nbsp;&nbsp;&nbsp;&nbsp;\n",
    "<b>mean curvature</b>\n",
    "<br>\n",
    "<img style=\"padding-right:10px; width:600px;\" src=\"https://mfr.osf.io/export?url=https://osf.io/v7v2u/?action=download%26direct%26mode=render&initialWidth=673&childId=mfrIframe&format=1200x1200.jpeg\">\n",
    "<br>"
   ]
  },
  {
   "cell_type": "markdown",
   "metadata": {
    "deletable": true,
    "editable": true
   },
   "source": [
    "<br>\n",
    "### 5. Extract cortical surface features:\n",
    "&nbsp;&nbsp;&nbsp;&nbsp;&nbsp;&nbsp;&nbsp;&nbsp;\n",
    "<b>folds</b> (left and upper right, with manual labels) \n",
    "<br>\n",
    "&nbsp;&nbsp;&nbsp;&nbsp;&nbsp;&nbsp;&nbsp;&nbsp;\n",
    "<b>sulci</b> (lower right)\n",
    "<br>\n",
    "<img style=\"padding-right:10px; width:600px;\" src=\"https://mfr.osf.io/export?url=https://osf.io/jq828/?action=download%26direct%26mode=render&initialWidth=673&childId=mfrIframe&format=1200x1200.jpeg\">\n",
    "\n",
    "&nbsp;&nbsp;&nbsp;&nbsp;&nbsp;&nbsp;&nbsp;&nbsp;\n",
    "<b>fundi</b> (right)\n",
    "<img style=\"padding-right:10px; width:300px;\" src=\"https://mfr.osf.io/export?url=https://osf.io/27pjt/?action=download%26direct%26mode=render&initialWidth=673&childId=mfrIframe&format=1200x1200.jpeg\">\n",
    "<br>"
   ]
  },
  {
   "cell_type": "markdown",
   "metadata": {
    "deletable": true,
    "editable": true
   },
   "source": [
    "<br>\n",
    "### 6. For each cortical surface label/sulcus, compute:\n",
    "&nbsp;&nbsp;&nbsp;&nbsp;&nbsp;&nbsp;&nbsp;&nbsp;\n",
    "<b>Zernike moments</b>\n",
    "<br>\n",
    "&nbsp;&nbsp;&nbsp;&nbsp;&nbsp;&nbsp;&nbsp;&nbsp;\n",
    "<b>Laplace-Beltrami spectrum</b> (2nd, 3rd, and 9th spectral components shown for two brains):\n",
    "<br>\n",
    "<br>\n",
    "<img style=\"padding-right:10px; width:600px;\" src=\"https://mfr.osf.io/export?url=https://osf.io/zhbvy/?action=download%26direct%26mode=render&initialWidth=673&childId=mfrIframe&format=1200x1200.jpeg\">  \n",
    "<br>"
   ]
  },
  {
   "cell_type": "markdown",
   "metadata": {
    "deletable": true,
    "editable": true
   },
   "source": [
    "<br>\n",
    "### 7. Compute statistics for each shape measure across vertices for each label/feature:\n",
    "    - median\n",
    "    - median absolute deviation\n",
    "    - mean\n",
    "    - standard deviation\n",
    "    - skew\n",
    "    - kurtosis\n",
    "    - lower and upper quartiles\n",
    "<br>"
   ]
  },
  {
   "cell_type": "markdown",
   "metadata": {
    "deletable": true,
    "editable": true
   },
   "source": [
    "<a id=\"help\"></a>\n",
    "\n",
    "# Run \"mindboggle --help\" on the command line\n",
    "\n",
    "First, let's see what command-line options Mindboggle provides:"
   ]
  },
  {
   "cell_type": "code",
   "execution_count": 18,
   "metadata": {
    "collapsed": false,
    "deletable": true,
    "editable": true,
    "scrolled": false
   },
   "outputs": [
    {
     "name": "stdout",
     "output_type": "stream",
     "text": [
      "usage: mindboggle [-h] [-v] [-c INT] [--ants STR] [--out STR] [--working STR]\r\n",
      "                  [--cache STR] [--no_volumes] [--no_surfaces] [--no_labels]\r\n",
      "                  [--no_shapes] [--no_sulci] [--no_points] [--no_moments]\r\n",
      "                  [--no_spectra] [--no_thickness] [--fundi] [--moments INT]\r\n",
      "                  [--spectra INT] [--my_atlas STR] [--my_atlases  [...]]\r\n",
      "                  [--my_graywhite STR] [--my_transform STR] [--graph STR]\r\n",
      "                  [--roygbiv] [--plugin PLUGIN] [--plugin_args PLUGIN_ARGS]\r\n",
      "                  DATA\r\n",
      "\r\n",
      "The Mindboggle software automates shape analysis of anatomical labels and\r\n",
      "features extracted from human brain MR image data (http://mindboggle.info).\r\n",
      "Example: mindboggle $HOME/freesurfer/subjects/arno --ants\r\n",
      "$HOME/ants/subjects/arno/antsBrainSegmentation.nii.gz\r\n",
      "\r\n",
      "positional arguments:\r\n",
      "  DATA                       path to directory of a person's brain data,\r\n",
      "                             usually generated by the FreeSurfer software\r\n",
      "\r\n",
      "optional arguments:\r\n",
      "  -h, --help                 show this help message and exit\r\n",
      "  -v, --version              show mindboggle version number\r\n",
      "  -c INT, --cpus INT         number of processors to use (1)\r\n",
      "\r\n",
      "recommended arguments:\r\n",
      "  --ants STR                 path to brain segmentation file (ex:\r\n",
      "                             /data/arno/antsBrainSegmentation.nii.gz)\r\n",
      "                             generated by antsCorticalThickness.sh command\r\n",
      "                             (transforms are accessed from same directory)\r\n",
      "\r\n",
      "modify outputs:\r\n",
      "  --out STR                  output folder (if not $HOME/mindboggled)\r\n",
      "  --working STR              working folder (if not $HOME/mindboggling)\r\n",
      "  --cache STR                download folder (if not $HOME/mindboggle_cache)\r\n",
      "  --no_volumes               no volume labels, features, or shape tables\r\n",
      "  --no_surfaces              no surface labels, features, or shape tables\r\n",
      "  --no_labels                no surface or volume labels\r\n",
      "  --no_shapes                no surface or volume shape measures\r\n",
      "  --no_sulci                 no sulci from labeled folds\r\n",
      "  --no_points                no table of per-vertex surface shape measures\r\n",
      "  --no_moments               no Zernike moments per surface label or sulcus\r\n",
      "  --no_spectra               no Laplace-Beltrami per surface label or sulcus\r\n",
      "  --no_thickness             no volume-based cortical label thicknesses\r\n",
      "\r\n",
      "advanced settings:\r\n",
      "  --fundi                    extract, measure fundi (under evaluation, SLOW)\r\n",
      "  --moments INT              reset order of Zernike moments (10)\r\n",
      "  --spectra INT              reset number of Laplace-Beltrami eigenvalues (10)\r\n",
      "  --my_atlas STR             new atlas, same labels, in MNI space (with\r\n",
      "                             corresponding template if --ants is set)\r\n",
      "  --my_atlases  [ ...]       extra atlas(es) in MNI space with label numbers\r\n",
      "                             from return_numbers_names_colors()\r\n",
      "  --my_graywhite STR         new gray/white matter file (ex: edited Mindboggle\r\n",
      "                             output); still call --ants for transforms\r\n",
      "  --my_transform STR         different ITK affine transform to MNI space (if\r\n",
      "                             different template used to get --ants output)\r\n",
      "  --graph STR                plot workflow: \"hier\", \"exec\" (need graphviz)\r\n",
      "  --roygbiv                  prepare data for visualization with ROYGBIV\r\n",
      "  --plugin PLUGIN            nipype plugin (see nipype documentation)\r\n",
      "  --plugin_args PLUGIN_ARGS  plugin arguments (see nipype documentation)\r\n"
     ]
    }
   ],
   "source": [
    "! mindboggle --help"
   ]
  },
  {
   "cell_type": "markdown",
   "metadata": {
    "deletable": true,
    "editable": true
   },
   "source": [
    "<a id=\"command\"></a>\n",
    "\n",
    "# Mindboggle on the command line\n",
    "\n",
    "In the following command, computes shape measures for cortical surface labels and sulci Mindboggle takes FreeSurfer (but not ANTs) data.\n",
    "\n",
    "mindboggle /home/jovyan/work/data/ds000114/derivatives/freesurfer/sub-01 \\\n",
    " --working /home/jovyan/work/data/mindboggling \n",
    " --out /home/jovyan/work/data/mindboggled \\\n",
    " --roygbiv"
   ]
  },
  {
   "cell_type": "markdown",
   "metadata": {
    "deletable": true,
    "editable": true
   },
   "source": [
    "<a id=\"library\"></a>\n",
    "\n",
    "# Mindboggle Python library\n",
    "\n",
    "Rather than call Mindboggle from the command line, we can also call individual Python functions within the Mindboggle library, which includes the following files in mindboggle/mindboggle/:\n",
    "\n",
    "- **mio**/  *-- input/output functions*\n",
    "    - **[colors](https://github.com/nipy/mindboggle/blob/master/mindboggle/mio/colors.py)**.py  *-- colormap-related functions*\n",
    "    - **[convert_volumes](https://github.com/nipy/mindboggle/blob/master/mindboggle/mio/convert_volumes.py)**.py  *-- read/write nifti volume files*\n",
    "    - **[fetch_data](https://github.com/nipy/mindboggle/blob/master/mindboggle/mio/fetch_data.py)**.py  *-- fetch data from a URL or from third party software*\n",
    "    - **[labels](https://github.com/nipy/mindboggle/blob/master/mindboggle/mio/labels.py)**.py  *-- information about labeling protocols*\n",
    "    - **[plots](https://github.com/nipy/mindboggle/blob/master/mindboggle/mio/plots.py)**.py  *-- plot functions*\n",
    "    - **[tables](https://github.com/nipy/mindboggle/blob/master/mindboggle/mio/tables.py)**.py  *-- read/write tables*\n",
    "    - **[vtks](https://github.com/nipy/mindboggle/blob/master/mindboggle/mio/vtks.py)**.py  *-- read/write VTK surface files*\n",
    "- **guts**/  *-- the \"guts\" underlying feature extraction and labeling code*\n",
    "    - **[compute](https://github.com/nipy/mindboggle/blob/master/mindboggle/guts/compute.py)**.py  *-- compute distances, etc.*\n",
    "    - **[graph](https://github.com/nipy/mindboggle/blob/master/mindboggle/guts/graph.py)**.py  *-- graph operations*\n",
    "    - **[kernels](https://github.com/nipy/mindboggle/blob/master/mindboggle/guts/kernels.py)**.py  *-- kernels for graph operations*\n",
    "    - **[mesh](https://github.com/nipy/mindboggle/blob/master/mindboggle/guts/mesh.py)**.py  *-- operate on surface mesh vertices*\n",
    "    - **[paths](https://github.com/nipy/mindboggle/blob/master/mindboggle/guts/paths.py)**.py  *-- connect surface mesh vertices*\n",
    "    - **[rebound](https://github.com/nipy/mindboggle/blob/master/mindboggle/guts/rebound.py)**.py  *-- adjust label borders on a surface mesh*\n",
    "    - **[relabel](https://github.com/nipy/mindboggle/blob/master/mindboggle/guts/relabel.py)**.py  *-- relabel surface or volume files*\n",
    "    - **[segment](https://github.com/nipy/mindboggle/blob/master/mindboggle/guts/segment.py)**.py  *-- segment a surface mesh*\n",
    "- **shapes**/  *-- shape measurement functions\n",
    "    - **[surface_shapes](https://github.com/nipy/mindboggle/blob/master/mindboggle/shapes/surface_shapes.py)**.py  *-- compute surface shapes (calls C++ library below)*\n",
    "    - **[volume_shapes](https://github.com/nipy/mindboggle/blob/master/mindboggle/shapes/volume_shapes.py)**.py  *-- compute volumes and thicknesses*\n",
    "    - **[laplace_beltrami](https://github.com/nipy/mindboggle/blob/master/mindboggle/shapes/laplace_beltrami.py)**.py  *-- compute a Laplace-Beltrami spectrum*\n",
    "    - **[zernike/zernike](https://github.com/nipy/mindboggle/blob/master/mindboggle/shapes/zernike/zernike.py)**.py  *-- compute Zernike moments of a collection of vertices*\n",
    "    - **[likelihood](https://github.com/nipy/mindboggle/blob/master/mindboggle/shapes/likelihood.py)**.py  *-- compute (fundus) likelihood values*\n",
    "- **features**/  *-- higher-level feature extraction (folds, fundi, sulci)*\n",
    "    - **[folds](https://github.com/nipy/mindboggle/blob/master/mindboggle/features/folds.py)**.py  *-- extract surface folds*\n",
    "    - **[fundi](https://github.com/nipy/mindboggle/blob/master/mindboggle/features/fundi.py)**.py  *-- extract fundus curves from folds*\n",
    "    - **[sulci](https://github.com/nipy/mindboggle/blob/master/mindboggle/features/sulci.py)**.py  *-- extract sulci from folds*\n",
    "\n",
    "<!--\n",
    "    - **thirdparty/**  *-- third-party code*\n",
    "    - **[ants](https://github.com/nipy/mindboggle/blob/master/mindboggle/thirdparty/ants.py)**.py  *-- call ANTs commands*\n",
    "    - **[vtkviewer](https://github.com/nipy/mindboggle/blob/master/mindboggle/thirdparty/vtkviewer.py)**.py  *-- VTK viewer (by Hal Canary)*\n",
    "  - mindboggle/vtk_cpp_tools  *-- C++ tools for measuring shapes on VTK surface files*\n",
    "    - **[area](https://github.com/nipy/mindboggle/blob/master/vtk_cpp_tools/area/PointAreaMain.cpp)**/\n",
    "    - **[curvature](https://github.com/nipy/mindboggle/blob/master/vtk_cpp_tools/curvature/CurvatureMain.cpp)**/\n",
    "    - **[geodesic_depth](https://github.com/nipy/mindboggle/blob/master/vtk_cpp_tools/geodesic_depth/GeodesicDepthMain.cpp)**/\n",
    "    - **[travel_depth](https://github.com/nipy/mindboggle/tree/master/vtk_cpp_tools/travel_depth)**/\n",
    "    - **[gradient](https://github.com/nipy/mindboggle/blob/master/vtk_cpp_tools/gradient/GradientMain.cpp)**/\n",
    "    - **[surface_overlap](https://github.com/nipy/mindboggle/blob/master/vtk_cpp_tools/surface_overlap/SurfaceOverlapMain.cpp)**/\n",
    "-->\n",
    "<br>\n",
    "<br>"
   ]
  },
  {
   "cell_type": "markdown",
   "metadata": {
    "collapsed": true,
    "deletable": true,
    "editable": true
   },
   "source": [
    "<a id=\"functions\"></a>\n",
    "\n",
    "# Run individual functions\n",
    "\n",
    "Let's run some functions within Mindboggle's Python library.  The following examples are adapted from the above files' docstrings.\n",
    "\n",
    "## Example 1: Measure depth in a superior frontal gyrus.\n",
    "### Measure travel depth for every vertex of a brain's left hemisphere:\n",
    "Convert a FreeSurfer surface file to VTK format:"
   ]
  },
  {
   "cell_type": "code",
   "execution_count": 23,
   "metadata": {
    "collapsed": false,
    "deletable": true,
    "editable": true
   },
   "outputs": [],
   "source": [
    "from mindboggle.mio.vtks import freesurfer_surface_to_vtk\n",
    "subject_path = '/home/jovyan/work/data/ds000114/derivatives/freesurfer/sub-01/'\n",
    "surface_file = freesurfer_surface_to_vtk(surface_file=subject_path + 'surf/lh.pial', \n",
    "                                         orig_file=subject_path + 'mri/orig.mgz',\n",
    "                                         output_vtk='lh.pial.vtk')"
   ]
  },
  {
   "cell_type": "markdown",
   "metadata": {
    "deletable": true,
    "editable": true
   },
   "source": [
    "Compute travel_depth for every vertex of the mesh in the VTK file:"
   ]
  },
  {
   "cell_type": "code",
   "execution_count": 24,
   "metadata": {
    "collapsed": false,
    "deletable": true,
    "editable": true
   },
   "outputs": [
    {
     "name": "stdout",
     "output_type": "stream",
     "text": [
      "/opt/mindboggle/vtk_cpp_tools/travel_depth/TravelDepthMain lh.pial.vtk /home/jovyan/work/mindboggle/docs/lh.pial.travel_depth.vtk\n",
      "170329-19:42:27,817 interface INFO:\n",
      "\t stdout 2017-03-29T19:42:27.817450:Euclidean depth allocated for visible points\n",
      "170329-19:42:27,819 interface INFO:\n",
      "\t stdout 2017-03-29T19:42:27.817450:Geodesic propagation 1\n",
      "170329-19:42:29,348 interface INFO:\n",
      "\t stdout 2017-03-29T19:42:29.348327:Euclidean propagation 1\n",
      "170329-19:42:29,850 interface INFO:\n",
      "\t stdout 2017-03-29T19:42:29.850667:Geodesic propagation 2\n",
      "170329-19:42:31,890 interface INFO:\n",
      "\t stdout 2017-03-29T19:42:31.890184:Euclidean propagation 2\n",
      "170329-19:42:32,394 interface INFO:\n",
      "\t stdout 2017-03-29T19:42:32.394358:Geodesic propagation 3\n",
      "170329-19:42:34,434 interface INFO:\n",
      "\t stdout 2017-03-29T19:42:34.434788:Euclidean propagation 3\n",
      "170329-19:42:34,937 interface INFO:\n",
      "\t stdout 2017-03-29T19:42:34.937368:Geodesic propagation 4\n",
      "170329-19:42:36,976 interface INFO:\n",
      "\t stdout 2017-03-29T19:42:36.976213:Euclidean propagation 4\n",
      "170329-19:42:37,479 interface INFO:\n",
      "\t stdout 2017-03-29T19:42:37.478924:Geodesic propagation 5\n",
      "170329-19:42:39,520 interface INFO:\n",
      "\t stdout 2017-03-29T19:42:39.520272:Euclidean propagation 5\n",
      "170329-19:42:40,24 interface INFO:\n",
      "\t stdout 2017-03-29T19:42:40.023884:Geodesic propagation 6\n",
      "170329-19:42:42,65 interface INFO:\n",
      "\t stdout 2017-03-29T19:42:42.064934:Euclidean propagation 6\n",
      "170329-19:42:42,567 interface INFO:\n",
      "\t stdout 2017-03-29T19:42:42.567810:Geodesic propagation 7\n",
      "170329-19:42:44,607 interface INFO:\n",
      "\t stdout 2017-03-29T19:42:44.607555:Euclidean propagation 7\n",
      "170329-19:42:45,111 interface INFO:\n",
      "\t stdout 2017-03-29T19:42:45.111659:Travel depth main computation done\n",
      "170329-19:42:46,637 interface INFO:\n",
      "\t stdout 2017-03-29T19:42:46.637234:last propagation done\n",
      "170329-19:42:46,638 interface INFO:\n",
      "\t stdout 2017-03-29T19:42:46.637234:Travel depth computed\n",
      "170329-19:42:47,656 interface INFO:\n",
      "\t stdout 2017-03-29T19:42:47.656598:vtk file written\n",
      "170329-19:42:47,658 interface INFO:\n",
      "\t stdout 2017-03-29T19:42:47.656598:Elapsed time (meshTest): 26 s\n"
     ]
    }
   ],
   "source": [
    "from mindboggle.shapes.surface_shapes import travel_depth\n",
    "from mindboggle.mio.vtks import read_scalars\n",
    "ccode_path = '/opt/mindboggle/vtk_cpp_tools'\n",
    "command = os.path.join(ccode_path, 'travel_depth', 'TravelDepthMain')\n",
    "depth_file = travel_depth(command=command,\n",
    "                          surface_file=surface_file,\n",
    "                          verbose=True)\n",
    "depths, name = read_scalars(depth_file)"
   ]
  },
  {
   "cell_type": "markdown",
   "metadata": {
    "deletable": true,
    "editable": true
   },
   "source": [
    "Plot a histogram of the depth values:"
   ]
  },
  {
   "cell_type": "code",
   "execution_count": 25,
   "metadata": {
    "collapsed": false,
    "deletable": true,
    "editable": true
   },
   "outputs": [
    {
     "data": {
      "image/png": "[encoded data removed]",
      "text/plain": [
       "<matplotlib.figure.Figure at 0x7fc4abfffdd8>"
      ]
     },
     "metadata": {},
     "output_type": "display_data"
    }
   ],
   "source": [
    "from mindboggle.mio.plots import histograms_of_lists\n",
    "histograms_of_lists(columns=[depths],\n",
    "                    column_name='Depth values',\n",
    "                    ignore_columns=[],\n",
    "                    nbins=100,\n",
    "                    axis_limits=[],\n",
    "                    titles='depth values')"
   ]
  },
  {
   "cell_type": "markdown",
   "metadata": {
    "deletable": true,
    "editable": true
   },
   "source": [
    "Plot the depth values in 3-D:"
   ]
  },
  {
   "cell_type": "code",
   "execution_count": 26,
   "metadata": {
    "collapsed": true,
    "deletable": true,
    "editable": true
   },
   "outputs": [],
   "source": [
    "from nbpapaya import Overlay\n",
    "import os"
   ]
  },
  {
   "cell_type": "code",
   "execution_count": 27,
   "metadata": {
    "collapsed": true,
    "deletable": true,
    "editable": true
   },
   "outputs": [],
   "source": [
    "import pandas as pd\n",
    "df = pd.DataFrame(depths, columns=[\"depth\"])\n",
    "df.to_csv('depths.csv', index=False)"
   ]
  },
  {
   "cell_type": "code",
   "execution_count": 30,
   "metadata": {
    "collapsed": true,
    "deletable": true,
    "editable": true
   },
   "outputs": [],
   "source": [
    "def getMeshOpts(vtk_file, csv_file, vmin, vmax, threshold):\n",
    "    cols = pd.read_csv(csv_file).columns.tolist()\n",
    "    MeshOpts = {}\n",
    "    MeshOpts[os.path.abspath(vtk_file)] = {  \n",
    "                      \"filename\": os.path.abspath(csv_file),\n",
    "                      \"colormin\": \"#0000FF\", \n",
    "                      \"colormax\": \"#FF0000\",\n",
    "                      \"vmin\": vmin,\n",
    "                      \"vmax\": vmax,\n",
    "                      \"key\": cols[0],\n",
    "                      \"key_options\": cols,    \n",
    "                      \"threshold\": threshold,\n",
    "                      \"mesh_transparency\": 1,\n",
    "                      \"mesh_visible\": True,\n",
    "                      \"overlay_transparency\": 1\n",
    "                  }\n",
    "    return MeshOpts"
   ]
  },
  {
   "cell_type": "code",
   "execution_count": 31,
   "metadata": {
    "collapsed": false,
    "deletable": true,
    "editable": true
   },
   "outputs": [
    {
     "name": "stdout",
     "output_type": "stream",
     "text": [
      "doing checks /home/jovyan/.jupyter/custom/\n",
      "{'/home/jovyan/work/mindboggle/docs/lh.pial.vtk': 'papaya_data/tmpq23nsb6m.vtk'}\n",
      "/files/papaya_data/tmpq23nsb6m.vtk\n",
      "{'/home/jovyan/work/mindboggle/docs/lh.pial.vtk': {'key_options': ['depth'], 'colormin': '#0000FF', 'mesh_transparency': 1, 'threshold': 2, 'vmax': 10, 'key': 'depth', 'overlay_transparency': 1, 'vmin': 2, 'filename': '/files/papaya_data/tmprgiqa6b3.csv', 'mesh_visible': True, 'colormax': '#FF0000'}} {'/files/papaya_data/tmpq23nsb6m.vtk': {'key_options': ['depth'], 'colormin': '#0000FF', 'mesh_transparency': 1, 'threshold': 2, 'vmax': 10, 'key': 'depth', 'overlay_transparency': 1, 'vmin': 2, 'filename': '/files/papaya_data/tmprgiqa6b3.csv', 'mesh_visible': True, 'colormax': '#FF0000'}}\n"
     ]
    },
    {
     "data": {
      "text/html": [
       "\n",
       "            <script type=\"text/javascript\">\n",
       "                var nb_port = window.location.port;\n",
       "                var iframe = document.querySelector('iframe#tmpp5ekm0cv');\n",
       "                iframe.src=\"http://localhost:\" + nb_port + \"/files/papaya_data/tmpp5ekm0cv.html\";\n",
       "            </script>\n",
       "            <iframe\n",
       "            id=\"tmpp5ekm0cv\"\n",
       "            width=\"600\"\n",
       "            height=\"450\"\n",
       "            scrolling=\"no\"\n",
       "            frameBorder=\"0\">\n",
       "            </iframe>"
      ],
      "text/plain": [
       "<nbpapaya.base.Overlay at 0x7fc4abc7cc88>"
      ]
     },
     "execution_count": 31,
     "metadata": {},
     "output_type": "execute_result"
    }
   ],
   "source": [
    "MeshOpts = getMeshOpts(surface_file, \"depths.csv\" , 2,10,2)\n",
    "Overlay(MeshOpts)"
   ]
  },
  {
   "cell_type": "markdown",
   "metadata": {
    "deletable": true,
    "editable": true
   },
   "source": [
    "### Extract folds based on depth and curvature:\n",
    "Find a depth threshold to extract folds from the surface:"
   ]
  },
  {
   "cell_type": "code",
   "execution_count": null,
   "metadata": {
    "collapsed": false,
    "deletable": true,
    "editable": true
   },
   "outputs": [],
   "source": [
    "from mindboggle.features.folds import find_depth_threshold\n",
    "depth_threshold, bins, bin_edges = find_depth_threshold(depth_file=depth_file,\n",
    "                                                        min_vertices=10000,\n",
    "                                                        verbose=True)\n",
    "depth_threshold"
   ]
  },
  {
   "cell_type": "markdown",
   "metadata": {
    "deletable": true,
    "editable": true
   },
   "source": [
    "Extract folds with the depth threshold:"
   ]
  },
  {
   "cell_type": "code",
   "execution_count": null,
   "metadata": {
    "collapsed": false,
    "deletable": true,
    "editable": true
   },
   "outputs": [],
   "source": [
    "from mindboggle.features.folds import extract_folds\n",
    "folds, n_folds, folds_file = extract_folds(depth_file=depth_file,\n",
    "                                           depth_threshold=depth_threshold,\n",
    "                                           min_fold_size=50,\n",
    "                                           save_file=True,\n",
    "                                           output_file='folds.vtk',\n",
    "                                           background_value=-1,\n",
    "                                           verbose=True)"
   ]
  },
  {
   "cell_type": "markdown",
   "metadata": {
    "deletable": true,
    "editable": true
   },
   "source": [
    "Plot the folds in 3-D:"
   ]
  },
  {
   "cell_type": "code",
   "execution_count": null,
   "metadata": {
    "collapsed": true,
    "deletable": true,
    "editable": true
   },
   "outputs": [],
   "source": [
    "# ANISHA!\n",
    "df = pd.DataFrame(folds, columns=[\"folds\"])\n",
    "df.to_csv('folds.csv', index=False)"
   ]
  },
  {
   "cell_type": "code",
   "execution_count": null,
   "metadata": {
    "collapsed": false,
    "deletable": true,
    "editable": true
   },
   "outputs": [],
   "source": [
    "folds_file"
   ]
  },
  {
   "cell_type": "code",
   "execution_count": null,
   "metadata": {
    "collapsed": false,
    "deletable": true,
    "editable": true
   },
   "outputs": [],
   "source": [
    "MeshOpts = getMeshOpts(folds_file, \"folds.csv\" , 1,10,1)\n",
    "Overlay(MeshOpts)"
   ]
  },
  {
   "cell_type": "markdown",
   "metadata": {
    "deletable": true,
    "editable": true
   },
   "source": [
    "Remove all but one fold to speed things up:"
   ]
  },
  {
   "cell_type": "code",
   "execution_count": null,
   "metadata": {
    "collapsed": false,
    "deletable": true,
    "editable": true
   },
   "outputs": [],
   "source": [
    "from mindboggle.mio.vtks import read_scalars\n",
    "fold_numbers = [4]\n",
    "fold, name = read_scalars(folds_file, True, True)\n",
    "i0 = [i for i,x in enumerate(folds) if x not in fold_numbers]\n",
    "fold[i0] = -1"
   ]
  },
  {
   "cell_type": "markdown",
   "metadata": {
    "deletable": true,
    "editable": true
   },
   "source": [
    "Plot the fold in 3-D:"
   ]
  },
  {
   "cell_type": "code",
   "execution_count": null,
   "metadata": {
    "collapsed": false,
    "deletable": true,
    "editable": true
   },
   "outputs": [],
   "source": [
    "# ANISHA!\n",
    "df = pd.DataFrame(fold, columns=[\"fold\"])\n",
    "df.to_csv('fold.csv', index=False)"
   ]
  },
  {
   "cell_type": "code",
   "execution_count": null,
   "metadata": {
    "collapsed": false,
    "deletable": true,
    "editable": true
   },
   "outputs": [],
   "source": [
    "MeshOpts = getMeshOpts(folds_file, \"fold.csv\" , 1,10,1)\n",
    "Overlay(MeshOpts)"
   ]
  },
  {
   "cell_type": "markdown",
   "metadata": {
    "deletable": true,
    "editable": true
   },
   "source": [
    "### Identify sulci in (one of) the folds:\n",
    "Use the DKT labeling protocol's list of label pairs defining each sulcus:\n",
    "\n",
    "Load a FreeSurfer .annot file and save as a VTK format file:"
   ]
  },
  {
   "cell_type": "code",
   "execution_count": null,
   "metadata": {
    "collapsed": false,
    "deletable": true,
    "editable": true
   },
   "outputs": [],
   "source": [
    "from mindboggle.mio.vtks import freesurfer_annot_to_vtk\n",
    "labels, label_file = freesurfer_annot_to_vtk(annot_file=subject_path + 'label/lh.aparc.annot',\n",
    "                                             vtk_file=surface_file,\n",
    "                                             output_vtk='lh.aparc.annot.vtk',\n",
    "                                             background_value=-1)"
   ]
  },
  {
   "cell_type": "markdown",
   "metadata": {
    "deletable": true,
    "editable": true
   },
   "source": [
    "Extract sulci from the one fold:"
   ]
  },
  {
   "cell_type": "code",
   "execution_count": null,
   "metadata": {
    "collapsed": false,
    "deletable": true,
    "editable": true
   },
   "outputs": [],
   "source": [
    "from mindboggle.features.sulci import extract_sulci\n",
    "sulci, n_sulci, sulci_file = extract_sulci(labels_file=label_file,\n",
    "                                           folds_or_file=fold,\n",
    "                                           hemi='lh',\n",
    "                                           min_boundary=10,\n",
    "                                           sulcus_names=[],\n",
    "                                           save_file=True,\n",
    "                                           output_file='sulci_from_fold.vtk',\n",
    "                                           background_value=-1,\n",
    "                                           verbose=True)\n",
    "n_sulci"
   ]
  },
  {
   "cell_type": "markdown",
   "metadata": {
    "deletable": true,
    "editable": true
   },
   "source": [
    "Write out a separate VTK file for each integer in (the first) scalar list of an input VTK file \n",
    "(optionally write the values drawn from a second VTK file):"
   ]
  },
  {
   "cell_type": "code",
   "execution_count": null,
   "metadata": {
    "collapsed": false,
    "deletable": true,
    "editable": true
   },
   "outputs": [],
   "source": [
    "from mindboggle.mio.vtks import explode_scalars\n",
    "label_files = explode_scalars(input_indices_vtk=label_file,\n",
    "                              input_values_vtk='',\n",
    "                              output_stem='label',\n",
    "                              exclude_values=[-1],\n",
    "                              background_value=-1,\n",
    "                              output_scalar_name='label',\n",
    "                              remove_background_faces=True,\n",
    "                              reindex=True,\n",
    "                              verbose=True)"
   ]
  },
  {
   "cell_type": "code",
   "execution_count": null,
   "metadata": {
    "collapsed": false,
    "deletable": true,
    "editable": true
   },
   "outputs": [],
   "source": [
    "from mindboggle.shapes.surface_shapes import travel_depth\n",
    "from mindboggle.mio.vtks import read_scalars\n",
    "import numpy as np\n",
    "ccode_path = '/opt/mindboggle/vtk_cpp_tools'\n",
    "command = os.path.join(ccode_path, 'travel_depth', 'TravelDepthMain')\n",
    "depth_file = travel_depth(command=command,\n",
    "                          surface_file=label_files[0],\n",
    "                          verbose=True)\n",
    "depths, name = read_scalars(depth_file)\n",
    "[np.float(\"{0:.{1}f}\".format(x, 5)) for x in depths[0:8]]"
   ]
  },
  {
   "cell_type": "raw",
   "metadata": {
    "deletable": true,
    "editable": true
   },
   "source": []
  },
  {
   "cell_type": "markdown",
   "metadata": {
    "collapsed": false,
    "deletable": true,
    "editable": true
   },
   "source": []
  },
  {
   "cell_type": "code",
   "execution_count": null,
   "metadata": {
    "collapsed": true,
    "deletable": true,
    "editable": true
   },
   "outputs": [],
   "source": []
  },
  {
   "cell_type": "markdown",
   "metadata": {
    "deletable": true,
    "editable": true
   },
   "source": [
    "def freesurfer_curvature_to_vtk(surface_file, vtk_file, output_vtk='',\n",
    "                                background_value=-1):\n",
    "    \"\"\"\n",
    "    Convert FreeSurfer curvature, thickness, or convexity file to VTK format.\n",
    "\n",
    "    Parameters\n",
    "    ----------\n",
    "    surface_file : string\n",
    "        name of FreeSurfer surface file\n",
    "    vtk_file : string\n",
    "        name of VTK surface file\n",
    "    output_vtk : string\n",
    "        name of output VTK file\n",
    "    background_value : integer or float\n",
    "        background value\n",
    "\n",
    "    Returns\n",
    "    -------\n",
    "    output_vtk : string\n",
    "        name of output VTK file, where each vertex is assigned\n",
    "        the corresponding shape value\n",
    "\n",
    "    Examples\n",
    "    --------\n",
    "from mindboggle.mio.vtks import freesurfer_curvature_to_vtk\n",
    "from mindboggle.mio.fetch_data import prep_tests\n",
    "urls, fetch_data = prep_tests()\n",
    "surface_file = fetch_data(urls['left_freesurfer_thickness'], '', '.vtk')\n",
    "vtk_file = fetch_data(urls['left_pial'], '', '.vtk')\n",
    "output_vtk = 'freesurfer_curvature_to_vtk.vtk'\n",
    "background_value = -1\n",
    "output_vtk = freesurfer_curvature_to_vtk(surface_file, vtk_file,\n",
    "    ...                                          output_vtk, background_value)"
   ]
  },
  {
   "cell_type": "code",
   "execution_count": null,
   "metadata": {
    "collapsed": true,
    "deletable": true,
    "editable": true
   },
   "outputs": [],
   "source": [
    "from mindboggle.mio.vtks import freesurfer_curvature_to_vtk\n",
    "output_vtk = freesurfer_curvature_to_vtk(surface_file=surface_vtk_file\n",
    "                                         vtk_file=surface_vtk_file,\n",
    "                                         output_vtk='curvature.vtk',\n",
    "                                         background_value=-1)"
   ]
  },
  {
   "cell_type": "code",
   "execution_count": null,
   "metadata": {
    "collapsed": true,
    "deletable": true,
    "editable": true
   },
   "outputs": [],
   "source": []
  },
  {
   "cell_type": "code",
   "execution_count": null,
   "metadata": {
    "collapsed": true,
    "deletable": true,
    "editable": true
   },
   "outputs": [],
   "source": []
  },
  {
   "cell_type": "code",
   "execution_count": null,
   "metadata": {
    "collapsed": true,
    "deletable": true,
    "editable": true
   },
   "outputs": [],
   "source": []
  },
  {
   "cell_type": "code",
   "execution_count": null,
   "metadata": {
    "collapsed": true,
    "deletable": true,
    "editable": true
   },
   "outputs": [],
   "source": []
  },
  {
   "cell_type": "code",
   "execution_count": null,
   "metadata": {
    "collapsed": true,
    "deletable": true,
    "editable": true
   },
   "outputs": [],
   "source": []
  },
  {
   "cell_type": "code",
   "execution_count": null,
   "metadata": {
    "collapsed": true,
    "deletable": true,
    "editable": true
   },
   "outputs": [],
   "source": []
  },
  {
   "cell_type": "markdown",
   "metadata": {
    "deletable": true,
    "editable": true
   },
   "source": [
    "<a id=\"example2\"></a>\n",
    "### Example 2:  Compute statistical measures across vertices per label.\n",
    "\n",
    "**[stats_per_label](https://github.com/nipy/mindboggle/blob/master/mindboggle/guts/compute.py#L716)** (values, labels, include_labels=[], exclude_labels=[], weights=[], precision=1)\n",
    "\n",
    "    When computing statistical measures across vertices per label, \n",
    "    you can optionally use weights (such as surface area per vertex),\n",
    "    to compute, for example, a surface area-weighted mean:\n",
    "\n",
    "    average value = sum(a_i * v_i) / total_surface_area,\n",
    "    where *a_i* and *v_i* are the area and value for each vertex *i*.\n",
    "\n",
    "    Reference:\n",
    "        Weighted skewness and kurtosis unbiased by sample size\n",
    "        Lorenzo Rimoldini, arXiv:1304.6564 (2013)\n",
    "        http://arxiv.org/abs/1304.6564\n",
    "\n",
    "    Parameters\n",
    "    ----------\n",
    "    values : numpy array of individual or lists of integers or floats\n",
    "        values for all vertices\n",
    "    labels : list or array of integers\n",
    "        label for each value\n",
    "    include_labels : list of integers\n",
    "        labels to include\n",
    "    exclude_labels : list of integers\n",
    "        labels to be excluded\n",
    "    weights : numpy array of floats\n",
    "        weights to compute weighted statistical measures\n",
    "    precision : integer\n",
    "        number of decimal places to consider weights\n",
    "\n",
    "    Returns\n",
    "    -------\n",
    "    medians : list of floats\n",
    "        median for each label\n",
    "    mads : list of floats\n",
    "        median absolute deviation for each label\n",
    "    means : list of floats\n",
    "        mean for each label\n",
    "    sdevs : list of floats\n",
    "        standard deviation for each label\n",
    "    skews : list of floats\n",
    "        skew for each label\n",
    "    kurts : list of floats\n",
    "        kurtosis value for each label\n",
    "    lower_quarts : list of floats\n",
    "        lower quartile for each label\n",
    "    upper_quarts : list of floats\n",
    "        upper quartile for each label\n",
    "    label_list : list of integers\n",
    "        list of unique labels"
   ]
  },
  {
   "cell_type": "code",
   "execution_count": null,
   "metadata": {
    "collapsed": false,
    "deletable": true,
    "editable": true
   },
   "outputs": [],
   "source": [
    "import numpy as np\n",
    "from mindboggle.mio.vtks import read_scalars\n",
    "from mindboggle.guts.compute import stats_per_label\n",
    "from mindboggle.mio.fetch_data import prep_tests\n",
    "urls, fetch_data = prep_tests()\n",
    "values_file = fetch_data(urls['left_mean_curvature'], '', '.vtk')\n",
    "labels_file = fetch_data(urls['left_freesurfer_labels'], '', '.vtk')\n",
    "area_file = fetch_data(urls['left_area'], '', '.vtk')\n",
    "values, name = read_scalars(values_file, True, True)\n",
    "areas, name = read_scalars(area_file, True, True)\n",
    "labels, name = read_scalars(labels_file)\n",
    "include_labels = []\n",
    "exclude_labels = [-1]\n",
    "weights = areas\n",
    "precision = 1\n",
    "medians, mads, means, sdevs, skews, kurts, lower_quarts, upper_quarts, label_list = stats_per_label(values, \n",
    "    labels, include_labels, exclude_labels, weights, precision)\n",
    "medians"
   ]
  },
  {
   "cell_type": "markdown",
   "metadata": {
    "deletable": true,
    "editable": true
   },
   "source": [
    "View histograms of statistical values:"
   ]
  },
  {
   "cell_type": "code",
   "execution_count": null,
   "metadata": {
    "collapsed": false,
    "deletable": true,
    "editable": true
   },
   "outputs": [],
   "source": [
    "from mindboggle.mio.plots import histograms_of_lists\n",
    "columns = [medians, mads, skews, kurts, lower_quarts, upper_quarts]\n",
    "column_name = '.'\n",
    "ignore_columns = []\n",
    "nbins = 10\n",
    "axis_limits = []\n",
    "titles = ['medians', 'mads', 'skews', 'kurts', 'lower_quarts', 'upper_quarts']\n",
    "histograms_of_lists(columns, column_name, ignore_columns, nbins, axis_limits, titles)"
   ]
  },
  {
   "cell_type": "markdown",
   "metadata": {
    "collapsed": true,
    "deletable": true,
    "editable": true
   },
   "source": [
    "<a id=\"example3\"></a>\n",
    "### Example 3:  Decimate a left postcentral pial surface.\n",
    "\n",
    "**[stats_per_label](https://github.com/nipy/mindboggle/blob/master/mindboggle/guts/mesh.py#L750)** (points, faces, reduction=0.75, smooth_steps=25, scalars=[], save_vtk=False, output_vtk='')\n",
    "\n",
    "    Decimate vtk triangular mesh with vtk.vtkDecimatePro.\n",
    "\n",
    "    Parameters\n",
    "    ----------\n",
    "    points : list of lists of floats\n",
    "        each element is a list of 3-D coordinates of a vertex on a surface mesh\n",
    "    faces : list of lists of integers\n",
    "        each element is list of 3 indices of vertices that form a face\n",
    "        on a surface mesh\n",
    "    reduction : float\n",
    "        fraction of mesh faces to remove\n",
    "    smooth_steps : integer\n",
    "        number of smoothing steps\n",
    "    scalars : list of integers or floats\n",
    "        optional scalars for output VTK file\n",
    "    save_vtk : bool\n",
    "        output decimated vtk file?\n",
    "    output_vtk : string\n",
    "        output decimated vtk file name\n",
    "\n",
    "    Returns\n",
    "    -------\n",
    "    points : list of lists of floats\n",
    "        decimated points\n",
    "    faces : list of lists of integers\n",
    "        decimated faces\n",
    "    scalars : list of integers or floats\n",
    "        scalars for output VTK file\n",
    "    output_vtk : string\n",
    "        output decimated vtk file"
   ]
  },
  {
   "cell_type": "code",
   "execution_count": null,
   "metadata": {
    "collapsed": false,
    "deletable": true,
    "editable": true
   },
   "outputs": [],
   "source": [
    "from mindboggle.guts.mesh import decimate\n",
    "from mindboggle.mio.vtks import read_vtk\n",
    "from mindboggle.mio.fetch_data import prep_tests\n",
    "urls, fetch_data = prep_tests()\n",
    "input_vtk = fetch_data(urls['left_freesurfer_labels'], '', '.vtk')\n",
    "points, f1, f2, faces, scalars, f3, f4, f5 = read_vtk(input_vtk)\n",
    "reduction = 0.5\n",
    "smooth_steps = 25\n",
    "save_vtk = True\n",
    "output_vtk = 'decimate.vtk'\n",
    "points2, faces2, scalars, output_vtk = decimate(points, faces, reduction, smooth_steps, scalars, save_vtk, output_vtk)\n",
    "(len(points), len(points2))\n",
    "(len(faces), len(faces2))"
   ]
  },
  {
   "cell_type": "markdown",
   "metadata": {
    "deletable": true,
    "editable": true
   },
   "source": [
    "View the decimated surface:"
   ]
  },
  {
   "cell_type": "code",
   "execution_count": null,
   "metadata": {
    "collapsed": false,
    "deletable": true,
    "editable": true
   },
   "outputs": [],
   "source": [
    "from mindboggle.mio.plots import plot_surfaces\n",
    "plot_surfaces('decimate.vtk')"
   ]
  },
  {
   "cell_type": "markdown",
   "metadata": {
    "deletable": true,
    "editable": true
   },
   "source": [
    "<a id=\"example4\"></a>\n",
    "### Example 4:  Relabel a VTK surface.\n",
    "\n",
    "**[relabel_surface](https://github.com/nipy/mindboggle/blob/master/mindboggle/guts/relabel.py#L300)** (vtk_file, hemi='', old_labels=[], new_labels=[], erase_remaining=True, erase_labels=[], erase_value=-1, output_file='')\n",
    "\n",
    "    Parameters\n",
    "    ----------\n",
    "    vtk_file : string\n",
    "         input labeled VTK file\n",
    "    hemi : string\n",
    "        hemisphere ('lh' or 'rh' or '')\n",
    "        if set, add 1000 to left and 2000 to right hemisphere labels;\n",
    "    old_labels : list of integers\n",
    "        old labels (empty list if labels drawn from vtk scalars);\n",
    "        may be used in conjunction with hemi\n",
    "    new_labels : list of integers\n",
    "        new labels (empty list if labels drawn from vtk scalars);\n",
    "        may be used in conjunction with hemi\n",
    "    erase_remaining : bool\n",
    "        set all values not in old_labels to erase_value?\n",
    "    erase_labels : list of integers\n",
    "        values to erase (set to erase_value)\n",
    "    erase_value : integer\n",
    "        set vertices with labels in erase_labels to this value\n",
    "    output_file : string\n",
    "        new vtk file name\n",
    "\n",
    "    Returns\n",
    "    -------\n",
    "    output_file : string\n",
    "        new vtk file name"
   ]
  },
  {
   "cell_type": "code",
   "execution_count": null,
   "metadata": {
    "collapsed": false,
    "deletable": true,
    "editable": true
   },
   "outputs": [],
   "source": [
    "import numpy as np\n",
    "from mindboggle.guts.relabel import relabel_surface\n",
    "from mindboggle.mio.vtks import read_scalars\n",
    "from mindboggle.mio.fetch_data import prep_tests\n",
    "urls, fetch_data = prep_tests()\n",
    "vtk_file = fetch_data(urls['left_freesurfer_labels'], '', '.vtk')\n",
    "hemi = 'lh'\n",
    "old_labels = [1003,1009,1030]\n",
    "new_labels = [0,500,1000]\n",
    "erase_remaining = True\n",
    "erase_labels = [0]\n",
    "erase_value = -1\n",
    "output_file = 'relabel_surface.vtk'\n",
    "output_file = relabel_surface(vtk_file, hemi, old_labels, new_labels,\n",
    "    erase_remaining, erase_labels, erase_value, output_file)\n",
    "labels, name = read_scalars(output_file, True, True)\n",
    "np.unique(labels)"
   ]
  },
  {
   "cell_type": "markdown",
   "metadata": {
    "deletable": true,
    "editable": true
   },
   "source": [
    "View relabeled surface file:"
   ]
  },
  {
   "cell_type": "code",
   "execution_count": null,
   "metadata": {
    "collapsed": true,
    "deletable": true,
    "editable": true
   },
   "outputs": [],
   "source": [
    "from mindboggle.mio.plots import plot_surfaces\n",
    "plot_surfaces(output_file)"
   ]
  },
  {
   "cell_type": "markdown",
   "metadata": {
    "deletable": true,
    "editable": true
   },
   "source": [
    "<a id=\"example5\"></a>\n",
    "### Example 5:  Segment deep vertices of surface into contiguous regions.\n",
    "\n",
    "**[segment_regions](https://github.com/nipy/mindboggle/blob/master/mindboggle/guts/segment.py#L181)** (vertices_to_segment, neighbor_lists, min_region_size=1, seed_lists=[], keep_seeding=False, spread_within_labels=False, labels=[], label_lists=[], values=[], max_steps='', background_value=-1, verbose=False)\n",
    "\n",
    "    Parameters\n",
    "    ----------\n",
    "    vertices_to_segment : list of integers\n",
    "        indices to mesh vertices to be segmented\n",
    "    neighbor_lists : list of lists of integers\n",
    "        each list contains indices to neighboring vertices for each vertex\n",
    "    min_region_size : integer\n",
    "        minimum size of segmented set of vertices\n",
    "    seed_lists : list of lists, or empty list\n",
    "        each list contains indices to seed vertices to segment vertices_to_segment\n",
    "    keep_seeding : bool\n",
    "        grow from new seeds even after all seed lists have fully grown\n",
    "    spread_within_labels : bool\n",
    "        grow seeds only by vertices with labels in the seed labels?\n",
    "    labels : list of integers (required only if spread_within_labels)\n",
    "        label numbers for all vertices\n",
    "    label_lists : list of lists of integers (required only if spread_within_labels)\n",
    "        List of unique labels for each seed list to grow into\n",
    "        (If empty, set to unique labels for each seed list)\n",
    "    values : list of floats (default empty)\n",
    "        values for all vertices for use in preferentially directed segmentation\n",
    "        (segment in direction of lower values)\n",
    "    max_steps : integer (or empty string for infinity)\n",
    "        maximum number of segmentation steps to take for each seed list\n",
    "    background_value : integer or float\n",
    "        background value\n",
    "    verbose : bool\n",
    "        print statements?\n",
    "\n",
    "    Returns\n",
    "    -------\n",
    "    segments : numpy array of integers\n",
    "        region numbers for all vertices"
   ]
  },
  {
   "cell_type": "code",
   "execution_count": null,
   "metadata": {
    "collapsed": true,
    "deletable": true,
    "editable": true
   },
   "outputs": [],
   "source": [
    "# Example without seed lists:\n",
    "import numpy as np\n",
    "from mindboggle.guts.segment import segment_regions\n",
    "from mindboggle.mio.vtks import read_vtk\n",
    "from mindboggle.guts.mesh import find_neighbors\n",
    "from mindboggle.mio.fetch_data import prep_tests\n",
    "background_value = -1\n",
    "urls, fetch_data = prep_tests()\n",
    "depth_file = fetch_data(urls['left_travel_depth'], '', '.vtk')\n",
    "f1,f2,f3, faces, depths, f4, npoints, t5 = read_vtk(depth_file, True, True)\n",
    "vertices_to_segment = np.where(depths > 0.50)[0].tolist()  # (sped up)\n",
    "neighbor_lists = find_neighbors(faces, npoints)\n",
    "segments = segment_regions(vertices_to_segment, neighbor_lists)\n",
    "len_segments = [len(np.where(segments == x)[0]) \n",
    "                for x in np.unique(segments) \n",
    "                if x != background_value]\n",
    "len_segments[0:10]"
   ]
  },
  {
   "cell_type": "markdown",
   "metadata": {
    "deletable": true,
    "editable": true
   },
   "source": [
    "Write results to vtk file and view:"
   ]
  },
  {
   "cell_type": "code",
   "execution_count": null,
   "metadata": {
    "collapsed": true,
    "deletable": true,
    "editable": true
   },
   "outputs": [],
   "source": [
    "from mindboggle.mio.plots import plot_surfaces\n",
    "from mindboggle.mio.vtks import rewrite_scalars\n",
    "rewrite_scalars(depth_file, 'segment_regions_no_seeds.vtk', segments, 'segments', [], -1)\n",
    "plot_surfaces('segment_regions_no_seeds.vtk')"
   ]
  },
  {
   "cell_type": "markdown",
   "metadata": {
    "deletable": true,
    "editable": true
   },
   "source": [
    "<a id=\"example6\"></a>\n",
    "### Example 6:  Extract sulcus label borders.\n",
    "\n",
    "**[extract_borders](https://github.com/nipy/mindboggle/blob/master/mindboggle/guts/segment.py#L1445)** \n",
    "                    (indices, labels, neighbor_lists,\n",
    "                    ignore_values=[], return_label_pairs=False)\n",
    "\n",
    "    Label borders are the set of all vertices\n",
    "    whose neighbors do not share the same label.\n",
    "\n",
    "    Parameters\n",
    "    ----------\n",
    "    indices : list of integers\n",
    "        indices to (a subset of) vertices\n",
    "    labels : numpy array of integers\n",
    "        label numbers for all vertices\n",
    "    neighbor_lists : list of lists of integers\n",
    "        each list contains indices to neighboring vertices for each vertex\n",
    "    ignore_values : list of integers\n",
    "        integers to ignore (e.g., background)\n",
    "    return_label_pairs : bool\n",
    "        return label pairs?\n",
    "\n",
    "    Returns\n",
    "    -------\n",
    "    border_indices : list of integers\n",
    "        indices to label boundary vertices\n",
    "    border_label_tuples : list of lists of sorted pairs of integers\n",
    "        sorted label pairs\n",
    "    unique_border_label_tuples : list of sorted pairs of integers\n",
    "        unique, sorted label pairs"
   ]
  },
  {
   "cell_type": "code",
   "execution_count": null,
   "metadata": {
    "collapsed": true,
    "deletable": true,
    "editable": true
   },
   "outputs": [],
   "source": [
    "from mindboggle.guts.segment import extract_borders\n",
    "import numpy as np\n",
    "from mindboggle.guts.mesh import find_neighbors\n",
    "from mindboggle.guts.segment import extract_borders\n",
    "from mindboggle.mio.vtks import read_vtk\n",
    "from mindboggle.mio.fetch_data import prep_tests\n",
    "urls, fetch_data = prep_tests()\n",
    "label_file = fetch_data(urls['left_freesurfer_labels'], '', '.vtk')\n",
    "f1,f2,f3, faces, labels, f4, npoints, f5 = read_vtk(label_file, True, True)\n",
    "neighbor_lists = find_neighbors(faces, npoints)\n",
    "ignore_values = []\n",
    "return_label_pairs = True\n",
    "indices_borders, label_pairs, f1 = extract_borders(list(range(npoints)), labels, neighbor_lists, ignore_values, return_label_pairs)\n",
    "indices_borders[0:10]\n",
    "label_pairs[0:5]"
   ]
  },
  {
   "cell_type": "markdown",
   "metadata": {
    "deletable": true,
    "editable": true
   },
   "source": [
    "Write borders on surfaces to vtk file and view:"
   ]
  },
  {
   "cell_type": "code",
   "execution_count": null,
   "metadata": {
    "collapsed": true,
    "deletable": true,
    "editable": true
   },
   "outputs": [],
   "source": [
    "from mindboggle.mio.plots import plot_surfaces\n",
    "from mindboggle.mio.vtks import rewrite_scalars\n",
    "IDs = -1 * np.ones(npoints)\n",
    "IDs[indices_borders] = 1\n",
    "rewrite_scalars(label_file, 'extract_borders.vtk', IDs, 'borders')\n",
    "plot_surfaces('extract_borders.vtk')"
   ]
  },
  {
   "cell_type": "markdown",
   "metadata": {
    "deletable": true,
    "editable": true
   },
   "source": [
    "Write just the borders to vtk file and view:"
   ]
  },
  {
   "cell_type": "code",
   "execution_count": null,
   "metadata": {
    "collapsed": true,
    "deletable": true,
    "editable": true
   },
   "outputs": [],
   "source": [
    "rewrite_scalars(label_file, 'extract_borders_no_background.vtk', IDs, 'borders', IDs)\n",
    "plot_surfaces('extract_borders_no_background.vtk')"
   ]
  }
 ],
 "metadata": {
  "anaconda-cloud": {},
  "celltoolbar": "Raw Cell Format",
  "kernelspec": {
   "display_name": "Python 3",
   "language": "python",
   "name": "python3"
  },
  "language_info": {
   "codemirror_mode": {
    "name": "ipython",
    "version": 3
   },
   "file_extension": ".py",
   "mimetype": "text/x-python",
   "name": "python",
   "nbconvert_exporter": "python",
   "pygments_lexer": "ipython3",
   "version": "3.5.2"
  }
 },
 "nbformat": 4,
 "nbformat_minor": 0
}
