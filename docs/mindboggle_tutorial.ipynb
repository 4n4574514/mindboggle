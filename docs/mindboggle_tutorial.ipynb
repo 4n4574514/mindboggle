{
 "cells": [
  {
   "cell_type": "markdown",
   "metadata": {},
   "source": [
    "<!--TUTORIAL INFORMATION-->\n",
    "<img align=\"left\" style=\"padding-right:10px;\" src=\"images/mindboggle_logo_100px.jpg\">\n",
    "*This notebook provides a tutorial to the [Mindboggle software](http://mindboggle.info) and assumes that the Mindboggle docker container has been installed as per the [installation instructions](http://mindboggle.readthedocs.io/en/latest/#installing-mindboggle). Rather than show examples of how to run Mindboggle on the command line, here we will dig into the Python library to run individual functions (by [Arno Klein](http://binarybottle.com), [CC-BY](https://creativecommons.org/licenses/by/3.0/us/legalcode)).*"
   ]
  },
  {
   "cell_type": "markdown",
   "metadata": {},
   "source": [
    "# Mindboggle tutorial\n",
    "\n",
    "Mindboggle’s open source brain morphometry platform takes in preprocessed T1-weighted MRI data, and outputs volume, surface, and tabular data containing label, feature, and shape information for further analysis. In this tutorial, we will:\n",
    "\n",
    "  - Look at Mindboggle's processing steps and output.\n",
    "  - Run \"mindboggle --help\" on the command line in a Docker container.\n",
    "  - Run \"mindboggle\" on the command line with example data.\n",
    "  - Run individual functions within the mindboggle Python library.\n"
   ]
  },
  {
   "cell_type": "markdown",
   "metadata": {},
   "source": [
    "## Mindboggle processing steps and output\n",
    "\n",
    "Open Mindboggle's website summarizing the software's processing steps and output file tree."
   ]
  },
  {
   "cell_type": "code",
   "execution_count": null,
   "metadata": {
    "collapsed": false
   },
   "outputs": [],
   "source": [
    "import webbrowser\n",
    "url = 'http://mindboggle.readthedocs.io/en/latest/#mindboggle-processing-steps'\n",
    "webbrowser.open(url)"
   ]
  },
  {
   "cell_type": "markdown",
   "metadata": {},
   "source": [
    "## \"mindboggle --help\" on the command line\n",
    "\n",
    "First, let's see what command-line options Mindboggle provides:"
   ]
  },
  {
   "cell_type": "code",
   "execution_count": null,
   "metadata": {
    "collapsed": false,
    "scrolled": false
   },
   "outputs": [],
   "source": [
    "%%bash\n",
    "\n",
    "docker run --rm -i -v /:/root/data --entrypoint /bin/bash bids/mindboggle;\n",
    "\n",
    "mindboggle --help"
   ]
  },
  {
   "cell_type": "markdown",
   "metadata": {},
   "source": [
    "## \"mindboggle\" command with example data\n",
    "\n",
    "In the following example, we will run Mindboggle on FreeSurfer (but not ANTs) data to get shape measures such as curvature, depth, and area for cortical surface labels, and to make it quick, we will turn off volume labels and shape measures, and surface-based Zernike moments and Laplace-Beltrami spectra."
   ]
  },
  {
   "cell_type": "code",
   "execution_count": null,
   "metadata": {
    "collapsed": false
   },
   "outputs": [],
   "source": [
    "%%bash\n",
    "docker run --rm -i -v /:/root/data --entrypoint /bin/bash bids/mindboggle;\n",
    "HOST=/root/data/Users/arno;\n",
    "FREESURFER_SUBJECT=$HOST/mindboggle_input_example/freesurfer/subjects/arno;\n",
    "ANTS_SUBJECT=$HOST/mindboggle_input_example/ants/subjects/arno;\n",
    "MINDBOGGLING=$HOST/mindboggling;\n",
    "MINDBOGGLED=$HOST/mindboggled;\n",
    "\n",
    "mindboggle $FREESURFER_SUBJECT --working $MINDBOGGLING --out $MINDBOGGLED \\\n",
    "           --no_volumes --no_sulci --no_points --no_moments --no_spectra"
   ]
  },
  {
   "cell_type": "markdown",
   "metadata": {},
   "source": [
    "## Mindboggle library\n",
    "\n",
    "Rather than call Mindboggle from the command line, we can also call individual Python functions within the Mindboggle library, which includes the following files:\n",
    "\n",
    "  - mindboggle/mindboggle/\n",
    "    - mio/  *-- input/output functions*\n",
    "        - colors.py  *-- colormap-related functions*\n",
    "        - convert_volumes.py  *-- read/write nifti volume files*\n",
    "        - fetch_data.py  *-- fetch data from a URL or from third party software*\n",
    "        - labels.py  *-- information about labeling protocols*\n",
    "        - plots.py  *-- plot functions*\n",
    "        - tables.py  *-- read/write tables*\n",
    "        - vtks.py  *-- read/write VTK surface files*\n",
    "    - guts/  *-- the \"guts\" underlying feature extraction and labeling code*\n",
    "        - compute.py  *-- compute distances, etc.*\n",
    "        - graph.py  *-- graph operations*\n",
    "        - kernels.py  *-- kernels for graph operations*\n",
    "        - mesh.py  *-- operate on surface mesh vertices*\n",
    "        - paths.py  *-- connect surface mesh vertices*\n",
    "        - rebound.py  *-- adjust label borders on a surface mesh*\n",
    "        - relabel.py  *-- relabel surface or volume files*\n",
    "        - segment.py  *-- segment a surface mesh*\n",
    "    - features/  *-- higher-level feature extraction (folds, fundi, sulci)*\n",
    "        - folds.py  *-- extract surface folds*\n",
    "        - fundi.py  *-- extract fundus curves from folds*\n",
    "        - sulci.py  *-- extract sulci from folds*\n",
    "    - shapes/  *-- shape measurement functions\n",
    "        - surface_shapes.py  *-- compute surface shapes (calls C++ library below)*\n",
    "        - volume_shapes.py  *-- compute volumes and thicknesses*\n",
    "        - laplace_beltrami.py  *-- compute a Laplace-Beltrami spectrum*\n",
    "        - zernike/zernike.py  *-- compute Zernike moments of a collection of vertices*\n",
    "        - likelihood.py  *-- compute (fundus) likelihood values*\n",
    "    - thirdparty/  *-- third-party code*\n",
    "        - ants.py  *-- call ANTs commands*\n",
    "        - vtkviewer.py  *-- VTK viewer (by Hal Canary)*\n",
    "\n",
    "  - mindboggle/vtk_cpp_tools  *-- C++ tools for measuring shapes on VTK surface files*\n",
    "    - area/\n",
    "    - curvature/\n",
    "    - geodesic_depth/\n",
    "    - gradient/\n",
    "    - surface_overlap/\n",
    "    - travel_depth/"
   ]
  },
  {
   "cell_type": "markdown",
   "metadata": {
    "collapsed": true
   },
   "source": [
    "## mindboggle Python functions\n",
    "\n",
    "Let's run some functions within Mindboggle's Python library.  The following examples are excerpts from the above files' docstrings."
   ]
  },
  {
   "cell_type": "code",
   "execution_count": null,
   "metadata": {
    "collapsed": false
   },
   "outputs": [],
   "source": [
    "# Compute histogram values from nibabel-readable image:\n",
    "!docker run --rm -i -v /:/root/data --entrypoint /bin/bash bids/mindboggle;\n",
    "from mindboggle.guts.compute import compute_image_histogram\n",
    "from mindboggle.mio.fetch_data import prep_tests\n",
    "urls, fetch_data = prep_tests()\n",
    "labels_file = fetch_data(urls['freesurfer_labels'], '', '.nii.gz')\n",
    "nbins = 100\n",
    "threshold = 0.5\n",
    "histogram_values = compute_image_histogram(labels_file, nbins, threshold)\n",
    "histogram_values[0:5]\n"
   ]
  },
  {
   "cell_type": "code",
   "execution_count": null,
   "metadata": {
    "collapsed": true
   },
   "outputs": [],
   "source": [
    "# Compute the number of times each label occurs.\n",
    "\"\"\"\n",
    "    Parameters\n",
    "    ----------\n",
    "    labels : numpy 1-D array of integers\n",
    "        labels (e.g., one label per vertex of a mesh)\n",
    "    include_labels : list of integers\n",
    "        labels to include\n",
    "        (if empty, use unique numbers in image volume file)\n",
    "    exclude_labels : list of integers\n",
    "        labels to be excluded\n",
    "\n",
    "    Returns\n",
    "    -------\n",
    "    unique_labels : list of integers\n",
    "        unique label numbers\n",
    "    counts : list of floats\n",
    "        number of times each label occurs\n",
    "\"\"\"\n",
    "!docker run --rm -i -v /:/root/data --entrypoint /bin/bash bids/mindboggle;\n",
    "from mindboggle.guts.compute import count_per_label\n",
    "labels = [8,8,8,8,8,10,11,12,10,10,11,11,11,12,12,12,12,13]\n",
    "include_labels = [9,10,11,12]\n",
    "exclude_labels = [13]\n",
    "unique_labels, counts = count_per_label(labels, include_labels, exclude_labels)\n",
    "unique_labels\n",
    "    [9, 10, 11, 12]\n",
    "counts\n",
    "    [0, 3, 4, 5]\n",
    "import nibabel as nb\n",
    "from mindboggle.mio.vtks import read_scalars\n",
    "from mindboggle.mio.labels import DKTprotocol\n",
    "from mindboggle.guts.compute import count_per_label\n",
    "from mindboggle.mio.fetch_data import prep_tests\n",
    "urls, fetch_data = prep_tests()\n",
    "labels_file = fetch_data(urls['freesurfer_labels'], '', '.nii.gz')\n",
    "img = nb.load(labels_file)\n",
    "hdr = img.get_header()\n",
    "labels = img.get_data().ravel()\n",
    "dkt = DKTprotocol()\n",
    "include_labels = dkt.label_numbers\n",
    "exclude_labels = []\n",
    "unique_labels, counts = count_per_label(labels,\n",
    "    ...     include_labels, exclude_labels)\n",
    "counts[0:10]\n"
   ]
  }
 ],
 "metadata": {
  "anaconda-cloud": {},
  "kernelspec": {
   "display_name": "Python [default]",
   "language": "python",
   "name": "python3"
  },
  "language_info": {
   "codemirror_mode": {
    "name": "ipython",
    "version": 3
   },
   "file_extension": ".py",
   "mimetype": "text/x-python",
   "name": "python",
   "nbconvert_exporter": "python",
   "pygments_lexer": "ipython3",
   "version": "3.5.2"
  }
 },
 "nbformat": 4,
 "nbformat_minor": 0
}
