{
 "cells": [
  {
   "cell_type": "markdown",
   "metadata": {
    "deletable": true,
    "editable": true
   },
   "source": [
    "<!--TUTORIAL INFORMATION-->\n",
    "<img align=\"left\" style=\"padding-right:10px;\" src=\"images/mindboggle_logo_200px_600dpi.jpg\">\n",
    "*This notebook provides a tutorial to the [Mindboggle software](http://mindboggle.info) and assumes that the Mindboggle docker container has been installed as per the [installation instructions](http://mindboggle.readthedocs.io/en/latest/#installing-mindboggle). In addition to showing examples of how to run Mindboggle on the command line, we will dig into the Python library to run individual functions (by [Arno Klein](http://binarybottle.com), [CC-BY](https://creativecommons.org/licenses/by/3.0/us/legalcode)).*"
   ]
  },
  {
   "cell_type": "markdown",
   "metadata": {
    "deletable": true,
    "editable": true
   },
   "source": [
    "# Mindboggle tutorial\n",
    "\n",
    "Mindboggle’s open source brain morphometry platform takes in preprocessed T1-weighted MRI data, and outputs volume, surface, and tabular data containing label, feature, and shape information for further analysis. In this tutorial, we will:\n",
    "\n",
    "  - Look at Mindboggle's processing steps and output.\n",
    "  - Run \"mindboggle --help\" on the command line in a Docker container.\n",
    "  - Run \"mindboggle\" on the command line with example data.\n",
    "  - Run individual functions within the mindboggle Python library.\n"
   ]
  },
  {
   "cell_type": "markdown",
   "metadata": {},
   "source": [
    "## Mindboggle processing steps\n",
    "\n",
    "The following steps are performed by Mindboggle:\n",
    "\n",
    "  - Create hybrid gray/white segmentation from FreeSurfer and ANTs output.\n",
    "\n",
    "  - Fill hybrid segmentation with FreeSurfer- or ANTs-registered labels.\n",
    "\n",
    "  - Compute volume shape measures for each labeled region:\n",
    "    - volume (volume_per_brain_region)\n",
    "    - thickness of cortical labels (thickinthehead)\n",
    "\n",
    "  - Compute surface shape measures for every cortical mesh vertex:\n",
    "    - surface area\n",
    "    - travel depth\n",
    "    - geodesic depth\n",
    "    - mean curvature\n",
    "    - convexity (from FreeSurfer)\n",
    "    - thickness (from FreeSurfer)\n",
    "  \n",
    "  - Extract cortical surface features:\n",
    "    - folds\n",
    "    - sulci\n",
    "    - fundi\n",
    "\n",
    "  - For each cortical surface label/sulcus, compute:\n",
    "    - area\n",
    "    - mean coordinates: means_per_label\n",
    "    - mean coordinates in MNI152 space\n",
    "    - Laplace-Beltrami spectrum\n",
    "    - Zernike moments\n",
    "  \n",
    "  - Compute statistics (stats_per_label in compute.py) for each shape measure in 4 above for each label/feature:\n",
    "    - median\n",
    "    - median absolute deviation\n",
    "    - mean\n",
    "    - standard deviation\n",
    "    - skew\n",
    "    - kurtosis\n",
    "    - lower quartile\n",
    "    - upper quartile"
   ]
  },
  {
   "cell_type": "markdown",
   "metadata": {
    "deletable": true,
    "editable": true
   },
   "source": [
    "Open Mindboggle's website summarizing the software's processing steps and output file tree."
   ]
  },
  {
   "cell_type": "code",
   "execution_count": null,
   "metadata": {
    "collapsed": false,
    "deletable": true,
    "editable": true
   },
   "outputs": [],
   "source": [
    "import webbrowser\n",
    "url = 'http://mindboggle.readthedocs.io/en/latest/#mindboggle-processing-steps'\n",
    "webbrowser.open(url)"
   ]
  },
  {
   "cell_type": "markdown",
   "metadata": {},
   "source": [
    "## Mindboggle output\n",
    "\n",
    "By default, output files are saved in $HOME/mindboggled/SUBJECT, where $HOME is the home directory and SUBJECT is a name representing the person’s brain that has been scanned. Volume files are in NIfTI format, surface meshes in VTK format, and tables are comma-delimited. Each file contains integers that correspond to anatomical labels or features (0-24 for sulci). All output data are in the original subject’s space. The following include outputs from most, but not all, optional arguments.\n",
    "\n",
    "**Folder -- Contents -- Format**\n",
    "\n",
    "**labels**/\t-- number-labeled surfaces and volumes -- .vtk, .nii.gz\n",
    "\n",
    "**features**/  -- surfaces with features: sulci, fundi -- .vtk\n",
    "\n",
    "**shapes**/ -- surfaces with shape measures (per vertex) -- .vtk\n",
    "\n",
    "**tables**/\t-- tables of shape measures (per label/feature/vertex)\t-- .csv"
   ]
  },
  {
   "cell_type": "markdown",
   "metadata": {
    "deletable": true,
    "editable": true
   },
   "source": [
    "## \"mindboggle --help\" on the command line\n",
    "\n",
    "First, let's see what command-line options Mindboggle provides:"
   ]
  },
  {
   "cell_type": "code",
   "execution_count": null,
   "metadata": {
    "collapsed": true,
    "deletable": true,
    "editable": true
   },
   "outputs": [],
   "source": [
    "! mindboggle --help"
   ]
  },
  {
   "cell_type": "markdown",
   "metadata": {
    "deletable": true,
    "editable": true
   },
   "source": [
    "## \"mindboggle\" command with example data\n",
    "\n",
    "In the following example, we will run Mindboggle on FreeSurfer (but not ANTs) data to get shape measures such as curvature, depth, and area for cortical surface labels, and to make it quick, we will turn off volume labels and shape measures, and surface-based Zernike moments and Laplace-Beltrami spectra."
   ]
  },
  {
   "cell_type": "code",
   "execution_count": null,
   "metadata": {
    "collapsed": false,
    "deletable": true,
    "editable": true
   },
   "outputs": [],
   "source": [
    "%%bash\n",
    "HOST=/root/data/Users/arno;\n",
    "FREESURFER_SUBJECT=$HOST/mindboggle_input_example/freesurfer/subjects/arno;\n",
    "ANTS_SUBJECT=$HOST/mindboggle_input_example/ants/subjects/arno;\n",
    "MINDBOGGLING=$HOST/mindboggling;\n",
    "MINDBOGGLED=$HOST/mindboggled;\n",
    "\n",
    "mindboggle $FREESURFER_SUBJECT --working $MINDBOGGLING --out $MINDBOGGLED \\\n",
    "           --no_volumes --no_sulci --no_points --no_moments --no_spectra"
   ]
  },
  {
   "cell_type": "markdown",
   "metadata": {
    "deletable": true,
    "editable": true
   },
   "source": [
    "## Mindboggle library\n",
    "\n",
    "Rather than call Mindboggle from the command line, we can also call individual Python functions within the Mindboggle library, which includes the following files:\n",
    "\n",
    "  - mindboggle/mindboggle/\n",
    "    - **mio**/  *-- input/output functions*\n",
    "        - **colors**.py  *-- colormap-related functions*\n",
    "        - **convert_volumes**.py  *-- read/write nifti volume files*\n",
    "        - **fetch_data**.py  *-- fetch data from a URL or from third party software*\n",
    "        - **labels**.py  *-- information about labeling protocols*\n",
    "        - **plots**.py  *-- plot functions*\n",
    "        - **tables**.py  *-- read/write tables*\n",
    "        - **vtks**.py  *-- read/write VTK surface files*\n",
    "    - **guts**/  *-- the \"guts\" underlying feature extraction and labeling code*\n",
    "        - **compute**.py  *-- compute distances, etc.*\n",
    "        - **graph**.py  *-- graph operations*\n",
    "        - **kernels**.py  *-- kernels for graph operations*\n",
    "        - **mesh**.py  *-- operate on surface mesh vertices*\n",
    "        - **paths**.py  *-- connect surface mesh vertices*\n",
    "        - **rebound**.py  *-- adjust label borders on a surface mesh*\n",
    "        - **relabel**.py  *-- relabel surface or volume files*\n",
    "        - **segment**.py  *-- segment a surface mesh*\n",
    "    - **features**/  *-- higher-level feature extraction (folds, fundi, sulci)*\n",
    "        - **folds**.py  *-- extract surface folds*\n",
    "        - **fundi**.py  *-- extract fundus curves from folds*\n",
    "        - **sulci**.py  *-- extract sulci from folds*\n",
    "    - **shapes**/  *-- shape measurement functions\n",
    "        - **surface_shapes**.py  *-- compute surface shapes (calls C++ library below)*\n",
    "        - **volume_shapes**.py  *-- compute volumes and thicknesses*\n",
    "        - **laplace_beltrami**.py  *-- compute a Laplace-Beltrami spectrum*\n",
    "        - **zernike/zernike**.py  *-- compute Zernike moments of a collection of vertices*\n",
    "        - **likelihood**.py  *-- compute (fundus) likelihood values*\n",
    "    - **thirdparty/**  *-- third-party code*\n",
    "        - **ants**.py  *-- call ANTs commands*\n",
    "        - **vtkviewer**.py  *-- VTK viewer (by Hal Canary)*\n",
    "\n",
    "  - mindboggle/vtk_cpp_tools  *-- C++ tools for measuring shapes on VTK surface files*\n",
    "    - **area**/\n",
    "    - **curvature**/\n",
    "    - **geodesic_depth**/\n",
    "    - **gradient**/\n",
    "    - **surface_overlap**/\n",
    "    - **travel_depth**/"
   ]
  },
  {
   "cell_type": "markdown",
   "metadata": {
    "collapsed": true,
    "deletable": true,
    "editable": true
   },
   "source": [
    "## Python functions\n",
    "\n",
    "Let's run some functions within Mindboggle's Python library.  The following examples are excerpts from the above files' docstrings."
   ]
  },
  {
   "cell_type": "code",
   "execution_count": null,
   "metadata": {
    "collapsed": false,
    "deletable": true,
    "editable": true
   },
   "outputs": [],
   "source": [
    "# Compute histogram values from nibabel-readable image:\n",
    "from mindboggle.guts.compute import compute_image_histogram\n",
    "from mindboggle.mio.fetch_data import prep_tests\n",
    "urls, fetch_data = prep_tests()\n",
    "labels_file = fetch_data(urls['freesurfer_labels'], '', '.nii.gz')\n",
    "nbins = 100\n",
    "threshold = 0.5\n",
    "histogram_values = compute_image_histogram(labels_file, nbins, threshold)\n",
    "histogram_values"
   ]
  },
  {
   "cell_type": "markdown",
   "metadata": {
    "deletable": true,
    "editable": true
   },
   "source": [
    "### Example:\n",
    "Compute various statistical measures across vertices per label, optionally using weights (such as surface area per vertex)."
   ]
  },
  {
   "cell_type": "code",
   "execution_count": null,
   "metadata": {
    "collapsed": false,
    "deletable": true,
    "editable": true
   },
   "outputs": [],
   "source": [
    "\"\"\"\n",
    "    Example (area-weighted mean):\n",
    "    average value = sum(a_i * v_i) / total_surface_area,\n",
    "    where *a_i* and *v_i* are the area and value for each vertex *i*.\n",
    "\n",
    "    Reference:\n",
    "        Weighted skewness and kurtosis unbiased by sample size\n",
    "        Lorenzo Rimoldini, arXiv:1304.6564 (2013)\n",
    "        http://arxiv.org/abs/1304.6564\n",
    "\n",
    "    Note ::\n",
    "        This function is different than means_per_label() in two ways:\n",
    "            1. It computes more than simply the (weighted) mean and sdev.\n",
    "            2. It only accepts 1-D arrays of values.\n",
    "\n",
    "    Parameters\n",
    "    ----------\n",
    "    values : numpy array of individual or lists of integers or floats\n",
    "        values for all vertices\n",
    "    labels : list or array of integers\n",
    "        label for each value\n",
    "    include_labels : list of integers\n",
    "        labels to include\n",
    "    exclude_labels : list of integers\n",
    "        labels to be excluded\n",
    "    weights : numpy array of floats\n",
    "        weights to compute weighted statistical measures\n",
    "    precision : integer\n",
    "        number of decimal places to consider weights\n",
    "\n",
    "    Returns\n",
    "    -------\n",
    "    medians : list of floats\n",
    "        median for each label\n",
    "    mads : list of floats\n",
    "        median absolute deviation for each label\n",
    "    means : list of floats\n",
    "        mean for each label\n",
    "    sdevs : list of floats\n",
    "        standard deviation for each label\n",
    "    skews : list of floats\n",
    "        skew for each label\n",
    "    kurts : list of floats\n",
    "        kurtosis value for each label\n",
    "    lower_quarts : list of floats\n",
    "        lower quartile for each label\n",
    "    upper_quarts : list of floats\n",
    "        upper quartile for each label\n",
    "    label_list : list of integers\n",
    "        list of unique labels\n",
    "\"\"\"\n",
    "from IPython.core.interactiveshell import InteractiveShell\n",
    "InteractiveShell.ast_node_interactivity = \"all\"\n",
    "\n",
    "import numpy as np\n",
    "from mindboggle.mio.vtks import read_scalars\n",
    "from mindboggle.guts.compute import stats_per_label\n",
    "from mindboggle.mio.fetch_data import prep_tests\n",
    "urls, fetch_data = prep_tests()\n",
    "values_file = fetch_data(urls['left_mean_curvature'], '', '.vtk')\n",
    "labels_file = fetch_data(urls['left_freesurfer_labels'], '', '.vtk')\n",
    "area_file = fetch_data(urls['left_area'], '', '.vtk')\n",
    "values, name = read_scalars(values_file, True, True)\n",
    "areas, name = read_scalars(area_file, True, True)\n",
    "labels, name = read_scalars(labels_file)\n",
    "include_labels = []\n",
    "exclude_labels = [-1]\n",
    "weights = areas\n",
    "precision = 1\n",
    "medians, mads, means, sdevs, skews, kurts, lower_quarts, upper_quarts, label_list = stats_per_label(values, \n",
    "                                                                                                    labels, include_labels, exclude_labels, weights, precision)\n",
    "[np.float(\"{0}:.{1}f {2}:.{1}f {3}:.{1}f {4}:.{1}f\".format(medians[i], 5, mads[i], means[i], kurts[i]) for i in range(len(mads))]"
   ]
  },
  {
   "cell_type": "code",
   "execution_count": null,
   "metadata": {
    "collapsed": true,
    "deletable": true,
    "editable": true
   },
   "outputs": [],
   "source": []
  }
 ],
 "metadata": {
  "anaconda-cloud": {},
  "celltoolbar": "Raw Cell Format",
  "kernelspec": {
   "display_name": "Python 3",
   "language": "python",
   "name": "python3"
  },
  "language_info": {
   "codemirror_mode": {
    "name": "ipython",
    "version": 3
   },
   "file_extension": ".py",
   "mimetype": "text/x-python",
   "name": "python",
   "nbconvert_exporter": "python",
   "pygments_lexer": "ipython3",
   "version": "3.5.2"
  }
 },
 "nbformat": 4,
 "nbformat_minor": 0
}
